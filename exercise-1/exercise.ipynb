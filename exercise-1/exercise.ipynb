{
 "cells": [
  {
   "cell_type": "markdown",
   "metadata": {},
   "source": [
    "# Exercise-1\n",
    "Add the specified code for each code cell, running the cells _in order_.\n",
    "\n",
    "For this exercise you will be defining an using a single **class** (in the first code cell). Later cells will ask you to modify this class definition in order to add additional features. You will need to **rerun all the cells** so that objects are recreated with the latest version of the class."
   ]
  },
  {
   "cell_type": "markdown",
   "metadata": {},
   "source": [
    "Define a class **`ClockTime`** that represents a single moment in time read from a clock (with minute precision). The class should have two **attributes**:\n",
    "\n",
    "1. The current **hour** (a number from 0 to 23; 0 means 12 midnight).\n",
    "2. The current **minute** (a number from 0 to 59)\n",
    "\n",
    "Give the class a _constructor_ (an `__init__()` method) that takes in an hour and a minute as parameter (each defaulting to 0) and uses those values to initialize the attributes.\n"
   ]
  },
  {
   "cell_type": "code",
   "execution_count": 35,
   "metadata": {
    "collapsed": false
   },
   "outputs": [],
   "source": [
    "class ClockTime:\n",
    "    def __init__(self, hour=0, minute=0):\n",
    "        self.hour = hour\n",
    "        self.minute = minute\n",
    "    \n",
    "    def __str__(self):\n",
    "        return '{}:{}'.format(self.hour, self.minute)\n",
    "    \n",
    "    def is_early(self):\n",
    "        return self.hour < 10\n",
    "    \n",
    "    def ticktock(self, num):\n",
    "        self.minute += num\n",
    "        if (self.minute > 59):\n",
    "            plus = int(self.minute / 60)\n",
    "            self.minute = self.minute % 60\n",
    "            self.hour += plus\n",
    "            if (self.hour > 11):\n",
    "                self.hour = self.hour % 12"
   ]
  },
  {
   "cell_type": "markdown",
   "metadata": {},
   "source": [
    "**Instantiate** a `ClockTime` object representing the time `8:30am`. Store this value as a variable `start_time`. Print out the `type` of the `start_time` object."
   ]
  },
  {
   "cell_type": "code",
   "execution_count": 36,
   "metadata": {
    "collapsed": false
   },
   "outputs": [
    {
     "name": "stdout",
     "output_type": "stream",
     "text": [
      "<class '__main__.ClockTime'>\n"
     ]
    }
   ],
   "source": [
    "clockTime = ClockTime(12, 23)\n",
    "print(type(clockTime))\n"
   ]
  },
  {
   "cell_type": "markdown",
   "metadata": {},
   "source": [
    "Print out the _hour_ and _minute_ attributes of the `start_time` object."
   ]
  },
  {
   "cell_type": "code",
   "execution_count": 37,
   "metadata": {
    "collapsed": false
   },
   "outputs": [
    {
     "name": "stdout",
     "output_type": "stream",
     "text": [
      "12\n",
      "23\n"
     ]
    }
   ],
   "source": [
    "print(clockTime.hour)\n",
    "print(clockTime.minute)"
   ]
  },
  {
   "cell_type": "markdown",
   "metadata": {},
   "source": [
    "___Modify___ the `ClockTime` class, giving it a `__str__()` method so that when a `ClockTime` object is _printed_, it will have the format **`16:23`**. (You can use the string `format()` method to [include the leading 0s](https://pyformat.info/#number) in the minutes if you wish).\n",
    "\n",
    "Print out the `start_time` object to demonstrate this new behavior."
   ]
  },
  {
   "cell_type": "code",
   "execution_count": 38,
   "metadata": {
    "collapsed": false
   },
   "outputs": [
    {
     "name": "stdout",
     "output_type": "stream",
     "text": [
      "12:23\n"
     ]
    }
   ],
   "source": [
    "print(clockTime)"
   ]
  },
  {
   "cell_type": "markdown",
   "metadata": {},
   "source": [
    "___Modify___ the `ClockTime` class to give it a new method **`is_early()`** which returns whether or not the time is earlier than 10:00am. Print whether the `start_time` is early.\n",
    "\n",
    "_Instantiate_ a new `ClockTime` object `lunch_time` representing 12:00 noon. Print whether `lunch_time` is early."
   ]
  },
  {
   "cell_type": "code",
   "execution_count": 39,
   "metadata": {
    "collapsed": false
   },
   "outputs": [
    {
     "name": "stdout",
     "output_type": "stream",
     "text": [
      "False\n"
     ]
    }
   ],
   "source": [
    "start_time = ClockTime(10, 23)\n",
    "print(start_time.is_early())\n"
   ]
  },
  {
   "cell_type": "markdown",
   "metadata": {},
   "source": [
    "___Modify___ the `ClockTime` class to give it a new method **`ticktock()`** that takes in a number of minutes (default 1). This method should move the clock forward by that many number of minutes.\n",
    "- If the minutes would go over 59, you should instead increment the hour (and if the hour would go over 23, they should reset to 0).\n",
    "- Bonus: you could perform this \"rollover\" logic in a separate method, and call it from the constructor as well to avoid any bad inputs!\n",
    "\n",
    "Use the `ticktock()` function to add 45 minutes to the `start_time` (use a loop!), and print out the now-updated time."
   ]
  },
  {
   "cell_type": "code",
   "execution_count": 41,
   "metadata": {
    "collapsed": false
   },
   "outputs": [
    {
     "name": "stdout",
     "output_type": "stream",
     "text": [
      "10:3\n"
     ]
    }
   ],
   "source": [
    "clockTime.ticktock(550)\n",
    "print(clockTime)"
   ]
  },
  {
   "cell_type": "markdown",
   "metadata": {},
   "source": [
    "___Modify___ the `ClockTime` class to give it a new method **`minutes_until()`** that takes in _another_ `ClockTime` object as an argument and _returns_ the number of minutes until that time.\n",
    "- _Tip_: think about working _only_ in minutes (e.g., calculate the number of minutes since midnight!). If the argument is \"earlier\" in the day, you can return a negative number.\n",
    "\n",
    "Print the number of minutes from `start_time` until `lunch_time`."
   ]
  },
  {
   "cell_type": "code",
   "execution_count": null,
   "metadata": {
    "collapsed": false
   },
   "outputs": [],
   "source": []
  }
 ],
 "metadata": {
  "kernelspec": {
   "display_name": "Python 3",
   "language": "python",
   "name": "python3"
  },
  "language_info": {
   "codemirror_mode": {
    "name": "ipython",
    "version": 3
   },
   "file_extension": ".py",
   "mimetype": "text/x-python",
   "name": "python",
   "nbconvert_exporter": "python",
   "pygments_lexer": "ipython3",
   "version": "3.6.0"
  },
  "toc": {
   "colors": {
    "hover_highlight": "#DAA520",
    "running_highlight": "#FF0000",
    "selected_highlight": "#FFD700"
   },
   "moveMenuLeft": true,
   "nav_menu": {
    "height": "30px",
    "width": "252px"
   },
   "navigate_menu": true,
   "number_sections": true,
   "sideBar": true,
   "threshold": 4,
   "toc_cell": false,
   "toc_section_display": "block",
   "toc_window_display": false,
   "widenNotebook": false
  }
 },
 "nbformat": 4,
 "nbformat_minor": 2
}
